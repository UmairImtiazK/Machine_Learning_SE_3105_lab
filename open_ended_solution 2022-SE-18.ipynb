{
 "cells": [
  {
   "cell_type": "markdown",
   "metadata": {},
   "source": [
    "# Open Ended Lab \n",
    "## 2022-SE-18\n",
    "\n"
   ]
  },
  {
   "cell_type": "markdown",
   "metadata": {},
   "source": [
    "# Classification of MNIST Handwritten Digits Using Machine Learning \n",
    "###  Objective \n",
    "The goal of this open-ended lab is to allow students to experiment with different classification \n",
    "models and compare their performance on the MNIST dataset. Students will: \n",
    "- Understand the structure of the dataset. \n",
    "- Train various machine learning models. \n",
    "- Evaluate the models and analyze their performance. \n",
    "- Document their findings in a detailed report. \n",
    "###  Dataset Description \n",
    "The dataset consists of handwritten digits represented as 28x28 pixel grayscale images. Each \n",
    "image is labeled with a corresponding digit (0-9). The dataset has been preprocessed as follows: \n",
    "- Flattened images into a 1D vector of 784 features (28x28 = 784). \n",
    "- Split into training and testing sets. \n",
    "- Stored in CSV files (mnist_train.csv and mnist_test.csv). "
   ]
  },
  {
   "cell_type": "code",
   "execution_count": 1,
   "metadata": {},
   "outputs": [],
   "source": [
    "import pandas as pd\n",
    "import numpy as np\n",
    "import matplotlib.pyplot as plt\n",
    "from sklearn.model_selection import train_test_split\n",
    "from sklearn.model_selection import GridSearchCV\n",
    "from sklearn.linear_model import LogisticRegression\n",
    "from sklearn.neighbors import KNeighborsClassifier\n",
    "from sklearn.naive_bayes import GaussianNB\n",
    "from sklearn.neural_network import MLPClassifier\n",
    "from sklearn.metrics import accuracy_score, classification_report, confusion_matrix\n",
    "from sklearn.decomposition import PCA\n",
    "import warnings\n",
    "\n",
    "warnings.filterwarnings('ignore')\n",
    "np.random.seed(42)"
   ]
  },
  {
   "cell_type": "code",
   "execution_count": 2,
   "metadata": {},
   "outputs": [],
   "source": [
    "# Load datasets\n",
    "train_df = pd.read_csv('mnist_train.csv')  \n",
    "test_df = pd.read_csv('mnist_test.csv')"
   ]
  },
  {
   "cell_type": "markdown",
   "metadata": {},
   "source": [
    "### combining the data sets\n",
    "we combine the data sets because the No of column in train and test data sets are (28*28 = 783). which is hard to preprocess seperatly and to reduce the features seperatly. Because if we apply Pca (which is used for features separtion in machine learning) to train data sets it cannot capture the same pattern to follow when reduce the features for testing data set. \n",
    "so for this reason and for over easyness we combine the training and testing data sets."
   ]
  },
  {
   "cell_type": "code",
   "execution_count": 3,
   "metadata": {},
   "outputs": [
    {
     "name": "stdout",
     "output_type": "stream",
     "text": [
      "Combined Data Shape: (70000, 785)\n"
     ]
    }
   ],
   "source": [
    "# Combine datasets\n",
    "combined_df = pd.concat([train_df, test_df], axis=0, ignore_index=True)\n",
    "print(\"Combined Data Shape:\", combined_df.shape)"
   ]
  },
  {
   "cell_type": "code",
   "execution_count": 4,
   "metadata": {},
   "outputs": [
    {
     "name": "stdout",
     "output_type": "stream",
     "text": [
      "Series([], dtype: int64)\n"
     ]
    }
   ],
   "source": [
    "missing_values = combined_df.isnull().sum()\n",
    "missing_values = missing_values[missing_values > 0]  # Show only columns with NaNs\n",
    "\n",
    "print(missing_values.sort_values(ascending=False))"
   ]
  },
  {
   "cell_type": "code",
   "execution_count": 5,
   "metadata": {},
   "outputs": [],
   "source": [
    "# X and Y\n",
    "X = combined_df.drop('label', axis=1)\n",
    "y = combined_df['label']"
   ]
  },
  {
   "cell_type": "markdown",
   "metadata": {},
   "source": [
    "#### standard scaling\n"
   ]
  },
  {
   "cell_type": "code",
   "execution_count": 6,
   "metadata": {},
   "outputs": [],
   "source": [
    "from sklearn.preprocessing import StandardScaler\n",
    "\n",
    "# Define the numerical columns\n",
    "numerical_cols = X.select_dtypes(include=['int64', 'float64']).columns\n",
    "\n",
    "# Create a StandardScaler instance\n",
    "scaler = StandardScaler()\n",
    "# Fit and transform the numerical columns\n",
    "X[numerical_cols] = scaler.fit_transform(X[numerical_cols])"
   ]
  },
  {
   "cell_type": "markdown",
   "metadata": {},
   "source": [
    "### using PCA to Reduce the features"
   ]
  },
  {
   "cell_type": "code",
   "execution_count": 6,
   "metadata": {},
   "outputs": [
    {
     "name": "stdout",
     "output_type": "stream",
     "text": [
      "Original Feature Shape: (60000, 785)\n",
      "Reduced Feature Shape: (70000, 154)\n"
     ]
    }
   ],
   "source": [
    "# Apply PCA to reduce features while keeping 95% of the variance\n",
    "pca = PCA(n_components=0.95)  \n",
    "X_pca = pca.fit_transform(X)\n",
    "\n",
    "# Check how many features remain after PCA\n",
    "print(\"Original Feature Shape:\", train_df.shape)\n",
    "print(\"Reduced Feature Shape:\", X_pca.shape)"
   ]
  },
  {
   "cell_type": "code",
   "execution_count": 7,
   "metadata": {},
   "outputs": [
    {
     "name": "stdout",
     "output_type": "stream",
     "text": [
      "Training Set Shape: (56000, 154)\n",
      "Testing Set Shape: (14000, 154)\n"
     ]
    }
   ],
   "source": [
    "# Split data (80% train, 20% test)\n",
    "X_train, X_test, y_train, y_test = train_test_split(\n",
    "    X_pca, y, test_size=0.2, random_state=42, stratify=y\n",
    ")\n",
    "\n",
    "print(\"Training Set Shape:\", X_train.shape)\n",
    "print(\"Testing Set Shape:\", X_test.shape)"
   ]
  },
  {
   "cell_type": "markdown",
   "metadata": {},
   "source": [
    "### define and Initialize the Models"
   ]
  },
  {
   "cell_type": "code",
   "execution_count": null,
   "metadata": {},
   "outputs": [
    {
     "name": "stdout",
     "output_type": "stream",
     "text": [
      "✅ 🔹 Logistic Regression Accuracy: 0.921\n",
      "              precision    recall  f1-score   support\n",
      "\n",
      "           0       0.94      0.97      0.96      1381\n",
      "           1       0.95      0.98      0.96      1575\n",
      "           2       0.93      0.89      0.91      1398\n",
      "           3       0.90      0.89      0.90      1428\n",
      "           4       0.93      0.92      0.92      1365\n",
      "           5       0.88      0.87      0.87      1263\n",
      "           6       0.93      0.95      0.94      1375\n",
      "           7       0.94      0.95      0.94      1459\n",
      "           8       0.89      0.88      0.89      1365\n",
      "           9       0.90      0.89      0.90      1391\n",
      "\n",
      "    accuracy                           0.92     14000\n",
      "   macro avg       0.92      0.92      0.92     14000\n",
      "weighted avg       0.92      0.92      0.92     14000\n",
      "\n",
      "[[1338    0    1    2    3   16    9    1    9    2]\n",
      " [   0 1538    6    9    0    7    1    7    5    2]\n",
      " [  16   11 1248   20   13    7   29   17   29    8]\n",
      " [   8    5   32 1272    0   50    5   16   31    9]\n",
      " [   5    9    5    5 1253    0   19    2   11   56]\n",
      " [  13    7    7   48    7 1098   21    7   40   15]\n",
      " [  13    3    6    0   11   17 1313    1   10    1]\n",
      " [   3    8   17    5    9    2    0 1380    5   30]\n",
      " [   7   30   15   28    8   43    9    3 1207   15]\n",
      " [  13   12    1   19   44    8    2   41   10 1241]]\n",
      "--------------------------------------------------\n",
      "✅ 🔹 K-Nearest Neighbors (KNN) Accuracy: 0.972\n",
      "              precision    recall  f1-score   support\n",
      "\n",
      "           0       0.97      1.00      0.98      1381\n",
      "           1       0.96      0.99      0.98      1575\n",
      "           2       0.99      0.96      0.97      1398\n",
      "           3       0.97      0.97      0.97      1428\n",
      "           4       0.99      0.96      0.97      1365\n",
      "           5       0.96      0.96      0.96      1263\n",
      "           6       0.97      0.99      0.98      1375\n",
      "           7       0.96      0.98      0.97      1459\n",
      "           8       0.99      0.94      0.96      1365\n",
      "           9       0.95      0.97      0.96      1391\n",
      "\n",
      "    accuracy                           0.97     14000\n",
      "   macro avg       0.97      0.97      0.97     14000\n",
      "weighted avg       0.97      0.97      0.97     14000\n",
      "\n",
      "[[1376    1    0    0    0    1    2    0    0    1]\n",
      " [   0 1565    4    1    1    0    1    3    0    0]\n",
      " [  11   11 1345    3    2    0    2   22    2    0]\n",
      " [   1    1    7 1387    1   13    1    8    5    4]\n",
      " [   2   11    1    0 1309    0    6    1    0   35]\n",
      " [   5    3    1    8    0 1215   17    3    4    7]\n",
      " [   5    3    0    0    2    9 1355    0    1    0]\n",
      " [   1   16    4    0    1    1    0 1424    0   12]\n",
      " [   9   10    1   18    2   26    5    3 1284    7]\n",
      " [   3    6    0   10   10    1    1   13    3 1344]]\n",
      "--------------------------------------------------\n",
      "✅ 🔹 Naïve Bayes Accuracy: 0.857\n",
      "              precision    recall  f1-score   support\n",
      "\n",
      "           0       0.94      0.91      0.93      1381\n",
      "           1       0.98      0.94      0.96      1575\n",
      "           2       0.69      0.86      0.76      1398\n",
      "           3       0.82      0.83      0.82      1428\n",
      "           4       0.88      0.82      0.85      1365\n",
      "           5       0.81      0.81      0.81      1263\n",
      "           6       0.93      0.89      0.91      1375\n",
      "           7       0.92      0.84      0.87      1459\n",
      "           8       0.85      0.84      0.85      1365\n",
      "           9       0.80      0.82      0.81      1391\n",
      "\n",
      "    accuracy                           0.86     14000\n",
      "   macro avg       0.86      0.86      0.86     14000\n",
      "weighted avg       0.86      0.86      0.86     14000\n",
      "\n",
      "[[1263    0   58    3    2   30   15    0    7    3]\n",
      " [   3 1479   12   15   15   11    8   15   15    2]\n",
      " [  12    4 1199   72   11   10   24   14   50    2]\n",
      " [   7    1   74 1191    0   64    6   23   37   25]\n",
      " [   1    5   79    3 1113   13    7    3   11  130]\n",
      " [   6    0   41   92    9 1027   20    7   39   22]\n",
      " [  13    1   75    3    7   39 1224    0   11    2]\n",
      " [   8   14   67   14   36   20    3 1219    9   69]\n",
      " [  17    1   72   47    8   34    6   10 1148   22]\n",
      " [  11    6   69   20   62   26    1   40   19 1137]]\n",
      "--------------------------------------------------\n",
      "✅ 🔹 Artificial Neural Network (ANN) Accuracy: 0.970\n",
      "              precision    recall  f1-score   support\n",
      "\n",
      "           0       0.98      0.99      0.99      1381\n",
      "           1       0.98      0.99      0.99      1575\n",
      "           2       0.96      0.97      0.97      1398\n",
      "           3       0.97      0.96      0.97      1428\n",
      "           4       0.98      0.95      0.97      1365\n",
      "           5       0.96      0.96      0.96      1263\n",
      "           6       0.98      0.98      0.98      1375\n",
      "           7       0.97      0.97      0.97      1459\n",
      "           8       0.95      0.96      0.96      1365\n",
      "           9       0.95      0.97      0.96      1391\n",
      "\n",
      "    accuracy                           0.97     14000\n",
      "   macro avg       0.97      0.97      0.97     14000\n",
      "weighted avg       0.97      0.97      0.97     14000\n",
      "\n",
      "[[1365    1    3    0    1    2    1    0    6    2]\n",
      " [   0 1558    7    0    1    0    0    5    4    0]\n",
      " [   5    7 1355    6    2    4    2    6    9    2]\n",
      " [   0    2   14 1368    0   15    1    5   14    9]\n",
      " [   2    4    6    0 1303    1    9    4    5   31]\n",
      " [   3    1    0   14    0 1217    9    2   13    4]\n",
      " [   9    2    4    0    3    9 1343    1    4    0]\n",
      " [   2    6   13    2    5    1    0 1412    3   15]\n",
      " [   3    5    7   12    0   16    2    1 1314    5]\n",
      " [   1    2    1    3   14    1    1   13    8 1347]]\n",
      "--------------------------------------------------\n",
      "Optimized MLP Accuracy: 0.912\n",
      "Best Hyperparameters: {'activation': 'relu', 'hidden_layer_sizes': (256, 128), 'learning_rate_init': 0.003}\n"
     ]
    }
   ],
   "source": [
    "# 📌 Define and initialize models\n",
    "model_options = {\n",
    "    \"🔹 Logistic Regression\": LogisticRegression(max_iter=1000),\n",
    "    \"🔹 K-Nearest Neighbors (KNN)\": KNeighborsClassifier(n_neighbors=5),\n",
    "    \"🔹 Naïve Bayes\": GaussianNB(),\n",
    "    \"🔹 Artificial Neural Network (ANN)\": MLPClassifier(max_iter=1000)\n",
    "}\n",
    "\n",
    "# 🚀 Train models and evaluate performance\n",
    "evaluation_results = {}\n",
    "\n",
    "for model_name, clf in model_options.items():\n",
    "    clf.fit(X_train, y_train)  # Training the model 🎯\n",
    "    y_pred = clf.predict(X_test)  # Making predictions 🔍\n",
    "    \n",
    "    # Calculate accuracy\n",
    "    accuracy = accuracy_score(y_test, y_pred)\n",
    "    evaluation_results[model_name] = accuracy\n",
    "    \n",
    "    # Display results 📊\n",
    "    print(f\"✅ {model_name} Accuracy: {accuracy:.3f}\")\n",
    "    print(classification_report(y_test, y_pred))\n",
    "    print(confusion_matrix(y_test, y_pred))\n",
    "    print(\"-\" * 50)\n",
    "\n",
    "# Tune Neural Network 🧠⚡\n",
    "ann_param_grid = {\n",
    "    'hidden_layer_sizes': [(256, 128), (128, 128, 64), (256, 128, 64)],  # 🏗️ Trying different layer structures\n",
    "    'learning_rate_init': [0.0005, 0.001, 0.003],  # 🚀 Exploring better learning rates\n",
    "    'activation': ['relu', 'tanh']  # 🔄 Comparing different activation functions\n",
    "}\n",
    "\n",
    "# Perform Grid Search 🔍\n",
    "ann_grid_search = GridSearchCV(MLPClassifier(max_iter=50, solver='adam', random_state=42), \n",
    "                               ann_param_grid, cv=3, n_jobs=-1)\n",
    "ann_grid_search.fit(X_train[:5000], y_train[:5000])  # Subset for faster processing ⚡\n",
    "\n",
    "# Get the best model 🏆\n",
    "best_mlp_model = ann_grid_search.best_estimator_\n",
    "y_pred_best_mlp = best_mlp_model.predict(X_test)\n",
    "\n",
    "# Evaluate performance 📊\n",
    "evaluation_results['optimized ann'] = accuracy_score(y_test, y_pred_best_mlp)\n",
    "print(f'Optimized MLP Accuracy: {evaluation_results['optimized ann']:.3f}')\n",
    "print(f'Best Hyperparameters: {ann_grid_search.best_params_}')"
   ]
  },
  {
   "cell_type": "markdown",
   "metadata": {},
   "source": [
    "## optimization of ANN Model"
   ]
  },
  {
   "cell_type": "code",
   "execution_count": 14,
   "metadata": {},
   "outputs": [
    {
     "name": "stdout",
     "output_type": "stream",
     "text": [
      "Optimized MLP Accuracy: 0.920\n",
      "Best Hyperparameters: {'activation': 'relu', 'hidden_layer_sizes': 512, 'learning_rate_init': 0.003}\n"
     ]
    }
   ],
   "source": [
    "# Tune Neural Network 🧠⚡\n",
    "ann_param_grid = {\n",
    "    'hidden_layer_sizes': [512, 256, 128],  # 🏗️ Trying different layer structures\n",
    "    'learning_rate_init': [0.0005, 0.001, 0.003],  # 🚀 Exploring better learning rates\n",
    "    'activation': ['relu', 'tanh']  # 🔄 Comparing different activation functions\n",
    "}\n",
    "\n",
    "# Perform Grid Search 🔍\n",
    "ann_grid_search = GridSearchCV(MLPClassifier(max_iter=1200, solver='adam', random_state=42), \n",
    "                               ann_param_grid, cv=3, n_jobs=-1)\n",
    "ann_grid_search.fit(X_train[:5000], y_train[:5000])  # Subset for faster processing ⚡\n",
    "\n",
    "# Get the best model 🏆\n",
    "best_mlp_model = ann_grid_search.best_estimator_\n",
    "y_pred_best_mlp = best_mlp_model.predict(X_test)\n",
    "\n",
    "# Evaluate performance 📊\n",
    "evaluation_results['optimized ann'] = accuracy_score(y_test, y_pred_best_mlp)\n",
    "print(f'Optimized MLP Accuracy: {evaluation_results['optimized ann']:.3f}')\n",
    "print(f'Best Hyperparameters: {ann_grid_search.best_params_}')"
   ]
  },
  {
   "cell_type": "markdown",
   "metadata": {},
   "source": [
    "## Evaluation  of Models"
   ]
  },
  {
   "cell_type": "code",
   "execution_count": 13,
   "metadata": {},
   "outputs": [
    {
     "data": {
      "image/png": "[encoded data removed]",
      "text/plain": [
       "<Figure size 1000x500 with 1 Axes>"
      ]
     },
     "metadata": {},
     "output_type": "display_data"
    }
   ],
   "source": [
    "plt.figure(figsize=(10, 5))\n",
    "plt.bar(evaluation_results.keys(), evaluation_results.values(), color=['blue', 'green', 'orange', 'purple', 'red'])\n",
    "plt.title('Model Accuracy Comparison')\n",
    "plt.ylabel('Accuracy')\n",
    "plt.ylim(0, 1)\n",
    "plt.xticks(rotation=45)\n",
    "plt.show()"
   ]
  },
  {
   "cell_type": "code",
   "execution_count": null,
   "metadata": {},
   "outputs": [],
   "source": []
  }
 ],
 "metadata": {
  "kernelspec": {
   "display_name": "Python 3",
   "language": "python",
   "name": "python3"
  },
  "language_info": {
   "codemirror_mode": {
    "name": "ipython",
    "version": 3
   },
   "file_extension": ".py",
   "mimetype": "text/x-python",
   "name": "python",
   "nbconvert_exporter": "python",
   "pygments_lexer": "ipython3",
   "version": "3.12.5"
  }
 },
 "nbformat": 4,
 "nbformat_minor": 2
}
